{
 "cells": [
  {
   "cell_type": "code",
   "execution_count": null,
   "id": "aeb3a321",
   "metadata": {},
   "outputs": [],
   "source": [
    "%matplotlib notebook\n",
    "%precision 3\n",
    "\n",
    "from pandas.plotting import register_matplotlib_converters\n",
    "register_matplotlib_converters()\n",
    "\n",
    "import matplotlib\n",
    "import matplotlib.pyplot as plt\n",
    "import datetime\n",
    "import numpy as np\n",
    "from matplotlib.animation import FuncAnimation\n",
    "from datetime import timedelta\n",
    "import h5py\n",
    "from matplotlib.pyplot import imshow\n",
    "import matplotlib.animation as animation\n",
    "h5py.enable_ipython_completer()\n",
    "from matplotlib import cm\n",
    "from matplotlib.colors import ListedColormap, LinearSegmentedColormap\n",
    "import urllib.parse\n",
    "import urllib.request\n",
    "import json\n",
    "import shutil"
   ]
  },
  {
   "cell_type": "code",
   "execution_count": null,
   "id": "8c512e2e",
   "metadata": {},
   "outputs": [],
   "source": [
    "# KNMI operational test key from https://developer.dataplatform.knmi.nl/get-started#make-api-calls\n",
    "key='eyJvcmciOiI1ZTU1NGUxOTI3NGE5NjAwMDEyYTNlYjEiLCJpZCI6IjI4ZWZlOTZkNDk2ZjQ3ZmE5YjMzNWY5NDU3NWQyMzViIiwiaCI6Im11cm11cjEyOCJ9'\n",
    "     \n",
    "\n",
    "def getRadarData(key, tstamp):\n",
    "    url = 'https://api.dataplatform.knmi.nl/open-data/v1/datasets/radar_reflectivity_composites/versions/2.0/files/RAD_NL25_PCP_NA_'+tstamp+'.h5/url'\n",
    "    headers = {'Authorization': key}\n",
    "\n",
    "    req = urllib.request.Request(url, headers=headers)\n",
    "    with urllib.request.urlopen(req) as response:\n",
    "       meta = response.read()\n",
    "    \n",
    "    realurl=json.loads(meta)[\"temporaryDownloadUrl\"]\n",
    "    req = urllib.request.Request(realurl)\n",
    "    fname=tstamp+\".hf5\"\n",
    "    print(fname)\n",
    "    with urllib.request.urlopen(req) as response:\n",
    "        with open(fname, 'wb') as location:\n",
    "            shutil.copyfileobj(response, location)\n",
    "            \n"
   ]
  },
  {
   "cell_type": "code",
   "execution_count": null,
   "id": "1f19f226",
   "metadata": {},
   "outputs": [],
   "source": [
    "now=datetime.datetime.utcnow()\n",
    "now = now - datetime.timedelta(hours=1, minutes=5)\n",
    "now -= datetime.timedelta(minutes=now.minute%5)\n",
    "\n",
    "now.strftime(\"%Y%m%d%H%M\")\n",
    "start=now\n",
    "files=[]\n",
    "for n in range(0,12):\n",
    "    tstamp=start.strftime(\"%Y%m%d%H%M\")\n",
    "    files.append(tstamp+\".hf5\")\n",
    "    getRadarData(key, tstamp)\n",
    "    start += datetime.timedelta(minutes=5)"
   ]
  },
  {
   "cell_type": "code",
   "execution_count": null,
   "id": "25948a6b",
   "metadata": {},
   "outputs": [],
   "source": [
    "img = h5py.File(files[0])\n",
    "list(img) # show what is in there"
   ]
  },
  {
   "cell_type": "code",
   "execution_count": null,
   "id": "a46c7e82",
   "metadata": {
    "scrolled": false
   },
   "outputs": [],
   "source": [
    "# read the first file\n",
    "img = h5py.File(files[0])\n",
    "# build the KNMI suggested palette\n",
    "cmap=np.array(img[\"visualisation1\"][\"color_palette\"])\n",
    "knmimap=ListedColormap(cmap/256.0)\n",
    "\n",
    "# Show the thing\n",
    "plt.figure()\n",
    "plt.imshow(img[\"image1\"][\"image_data\"], cmap=knmimap)"
   ]
  },
  {
   "cell_type": "code",
   "execution_count": null,
   "id": "b26b6b46",
   "metadata": {},
   "outputs": [],
   "source": [
    "# Now let's make an animation!\n",
    "\n",
    "fig, ax = plt.subplots()\n",
    "\n",
    "def update(fname):\n",
    "    # clear the axis each frame\n",
    "    ax.clear()\n",
    "    ax.set_xlabel(\"KM\")\n",
    "    ax.set_ylabel(\"KM\")\n",
    "    ax.grid()\n",
    "    img = h5py.File(fname)\n",
    "    cmap=np.array(img[\"visualisation1\"][\"color_palette\"])\n",
    "    knmimap=ListedColormap(cmap/256.0)\n",
    "    \n",
    "    ax.imshow(img[\"image1\"][\"image_data\"], cmap=knmimap)\n",
    "    # replot things\n",
    "    ax.set_title(\"KNMI precipitation radar data from \"+fname)\n",
    "    \n",
    "    \n",
    "ani = animation.FuncAnimation(fig, update, frames=files, interval=500)\n",
    "ani.save('dutchrain.gif', writer='imagemagick', fps=2)\n"
   ]
  },
  {
   "cell_type": "code",
   "execution_count": null,
   "id": "ae435785",
   "metadata": {},
   "outputs": [],
   "source": [
    "# scan a little deeper in a file\n",
    "for a in list(img):\n",
    "    print(a,\": \",list(img[a]))"
   ]
  },
  {
   "cell_type": "code",
   "execution_count": null,
   "id": "4cddf4a7",
   "metadata": {},
   "outputs": [],
   "source": [
    "list(img[\"visualisation1\"][\"color_palette\"].attrs.items())"
   ]
  },
  {
   "cell_type": "code",
   "execution_count": null,
   "id": "d5532cf8",
   "metadata": {
    "scrolled": false
   },
   "outputs": [],
   "source": [
    "arr = np.ma.fix_invalid(np.array(img[\"image1\"]['image_data']), fill_value=0)\n",
    "plt.figure()\n",
    "plt.hist(arr.ravel(), bins=255)"
   ]
  },
  {
   "cell_type": "code",
   "execution_count": null,
   "id": "13fa4faf",
   "metadata": {},
   "outputs": [],
   "source": []
  }
 ],
 "metadata": {
  "kernelspec": {
   "display_name": "Python 3 (ipykernel)",
   "language": "python",
   "name": "python3"
  },
  "language_info": {
   "codemirror_mode": {
    "name": "ipython",
    "version": 3
   },
   "file_extension": ".py",
   "mimetype": "text/x-python",
   "name": "python",
   "nbconvert_exporter": "python",
   "pygments_lexer": "ipython3",
   "version": "3.10.4"
  }
 },
 "nbformat": 4,
 "nbformat_minor": 5
}
